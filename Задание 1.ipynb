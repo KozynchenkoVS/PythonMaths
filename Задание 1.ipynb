{
 "cells": [
  {
   "cell_type": "code",
   "execution_count": 6,
   "metadata": {},
   "outputs": [],
   "source": [
    "import math"
   ]
  },
  {
   "cell_type": "code",
   "execution_count": 7,
   "metadata": {},
   "outputs": [],
   "source": [
    "# точность p-адического числа\n",
    "e = 5\n",
    "# модуль для док-ва биективности\n",
    "n_biekt = 4\n",
    "# модуль для док-ва транзитивности\n",
    "n_trans = 8\n",
    "# вычеты по 4\n",
    "array_biekt = list(range(0, n_biekt))\n",
    "# вычету по 8\n",
    "trans_array = list(range(0, n_trans))"
   ]
  },
  {
   "cell_type": "markdown",
   "metadata": {},
   "source": [
    "# Вариант 10"
   ]
  },
  {
   "cell_type": "markdown",
   "metadata": {},
   "source": [
    "# Функция f(x) = (18 + x - 7 * x ^ 2)"
   ]
  },
  {
   "cell_type": "code",
   "execution_count": 8,
   "metadata": {},
   "outputs": [],
   "source": [
    "# Функция вычисления f(x) по модулю n\n",
    "def calculate_f(a, n):\n",
    "    return (18 + a - 7*(a**2)) % n"
   ]
  },
  {
   "cell_type": "code",
   "execution_count": 9,
   "metadata": {},
   "outputs": [],
   "source": [
    "# универсальная функция\n",
    "# Принимает на вход вершины с пустыми связями, функцию, с помощью которой будет осуществляться вычисление, а также число которое будет подставляться в mod\n",
    "def calculate_by_func(verticles: dict, func, n_mod):\n",
    "    # Для каждой вершины\n",
    "    for k in verticles.keys():\n",
    "        # вычисли первую связь\n",
    "        b = func(k, n_mod)\n",
    "        # записываем вычисленную связь в вершину\n",
    "        verticles[k] = set([b])\n",
    "        # создаём путь пройденный вершиной\n",
    "        arr = [b]\n",
    "        while(True):\n",
    "            # вычисляем следующую связь\n",
    "            c = func(arr[-1], n_mod)\n",
    "            # Если вернулись в предыдущую точку, то выходим из цикла\n",
    "            if (c in arr):\n",
    "                break\n",
    "            # Иначе добавляем вычисленную связь в вершину\n",
    "            else: \n",
    "                arr.append(c)\n",
    "                verticles[k].add(c)"
   ]
  },
  {
   "cell_type": "code",
   "execution_count": 10,
   "metadata": {},
   "outputs": [],
   "source": [
    "# Функция проверки на биективность\n",
    "def check_biekt(a: list[int], d: dict):\n",
    "    flagResult = True\n",
    "    # Идём по всем по всем вершина\n",
    "    for value in a:\n",
    "        flag = False\n",
    "        # Идём по всем вершинам\n",
    "        for key in d.keys():\n",
    "            # Если вершина есть в связи другой, то идём дальше\n",
    "            if value in d[key]:\n",
    "                flag = True\n",
    "        # Если вершина отсутствует во всех вершинах, то она образует хвост\n",
    "        if not flag:\n",
    "            flagResult = False\n",
    "            print(f'Есть хвост от {value} \\n${d} \\nФункция не биективна')\n",
    "    if flagResult:\n",
    "        print(\"Функция биективна\")"
   ]
  },
  {
   "cell_type": "code",
   "execution_count": 11,
   "metadata": {},
   "outputs": [],
   "source": [
    "# Функция проверки на биективность\n",
    "def check_trans(a: list[int], d: dict):\n",
    "    flag = True\n",
    "    # Идём по всем вершинам\n",
    "    for key in d.keys():\n",
    "        # Если количество связей в вершине не равно количеству вершин, то нет единого цикла\n",
    "        if len(d[key]) != len(a):\n",
    "            flag = False\n",
    "            break\n",
    "    if not flag:\n",
    "        print(f'Циклов больше чем один \\n ${d} \\nФункция не транзитивна')\n",
    "    if flag:\n",
    "        print('Функция транзитивна')"
   ]
  },
  {
   "cell_type": "code",
   "execution_count": 12,
   "metadata": {},
   "outputs": [],
   "source": [
    "# Создаём список вершин для проверки на биективность f(x)\n",
    "biekt = {} \n",
    "for k in array_biekt:\n",
    "    # ставим каждой вершине пустой список связей\n",
    "    biekt[k] = set()"
   ]
  },
  {
   "cell_type": "code",
   "execution_count": 13,
   "metadata": {},
   "outputs": [
    {
     "name": "stdout",
     "output_type": "stream",
     "text": [
      "18 * x - 7 * x ^ 2\n",
      "Есть хвост от 1 \n",
      "${0: {0, 2}, 1: {0, 2}, 2: {0, 2}, 3: {0, 2}} \n",
      "Функция не биективна\n",
      "Есть хвост от 3 \n",
      "${0: {0, 2}, 1: {0, 2}, 2: {0, 2}, 3: {0, 2}} \n",
      "Функция не биективна\n"
     ]
    }
   ],
   "source": [
    "print(18,'* x', '- 7 *','x','^ 2' )\n",
    "# вычисляем связи\n",
    "calculate_by_func(biekt, calculate_f, n_biekt)\n",
    "# проверяем по списку вершин и их связей функцию на биективность\n",
    "check_biekt(array_biekt, biekt)\n"
   ]
  },
  {
   "cell_type": "code",
   "execution_count": 14,
   "metadata": {},
   "outputs": [
    {
     "name": "stdout",
     "output_type": "stream",
     "text": [
      "18 * x - 7 * x ^ 2\n",
      "Циклов больше чем один \n",
      " ${0: {0, 2}, 1: {4, 6}, 2: {0, 2}, 3: {4, 6}, 4: {4, 6}, 5: {0, 2}, 6: {4, 6}, 7: {0, 2}} \n",
      "Функция не транзитивна\n"
     ]
    }
   ],
   "source": [
    "# Создаём список вершин для проверки на транзитивность f(x)\n",
    "transitivity = {} \n",
    "for k in trans_array:\n",
    "    # ставим каждой вершине пустой список связей\n",
    "    transitivity[k] = set()\n",
    "\n",
    "print(18,'* x', '- 7 *','x','^ 2' )\n",
    "# вычисляем связи\n",
    "calculate_by_func(transitivity, calculate_f, n_trans)\n",
    "# проверяем по списку вершин и их связей функцию на транзитивность\n",
    "check_trans(trans_array, transitivity)"
   ]
  },
  {
   "cell_type": "code",
   "execution_count": 15,
   "metadata": {},
   "outputs": [],
   "source": [
    "# функция для вычисления степеней 2\n",
    "def pows_of_2(limit):\n",
    "    for p in range(1, limit):\n",
    "        yield 2 ** p"
   ]
  },
  {
   "cell_type": "code",
   "execution_count": 16,
   "metadata": {},
   "outputs": [],
   "source": [
    "# список степеней 2 в количестве 20\n",
    "pows = list(pows_of_2(20))"
   ]
  },
  {
   "cell_type": "code",
   "execution_count": 17,
   "metadata": {},
   "outputs": [],
   "source": [
    "# определение множителя x на n, чтобы решить уравнение m = log2(|n * x - 1|)\n",
    "def define_mult(num: int):\n",
    "    for i in range(1, 200):\n",
    "        mult = (i * abs(num)) + 1\n",
    "        if mult in pows:\n",
    "            return i"
   ]
  },
  {
   "cell_type": "code",
   "execution_count": 18,
   "metadata": {},
   "outputs": [],
   "source": [
    "# функция для получения 2-адической строки дробей вида -1/n с точностью e\n",
    "def to_2_adic(num, e):\n",
    "    # вычисление m, для применения в формуле 2^(m * i)\n",
    "    m = int(math.log(abs(num * define_mult(num) - 1), 2))\n",
    "    # считаем сумму ряда 2^(m*i) точностью e и преобразуем её в бинарную строку\n",
    "    return bin(sum([2 ** (m*i) for i in range(e)]))"
   ]
  },
  {
   "cell_type": "code",
   "execution_count": 19,
   "metadata": {},
   "outputs": [],
   "source": [
    "# начало бинарной строки на python, для составления бинарной строки из 0 и 1\n",
    "start_of_binary_string = '0b'"
   ]
  },
  {
   "cell_type": "code",
   "execution_count": 20,
   "metadata": {},
   "outputs": [],
   "source": [
    "# mod для бинарных строк\n",
    "def mod_adic_i(num_adic, i): \n",
    "    # преобразуем число в бинарную строку и забираем log2(i) последних разрядов строки\n",
    "    return start_of_binary_string + bin(num_adic)[int(-math.log(i, 2)):]"
   ]
  },
  {
   "cell_type": "code",
   "execution_count": 21,
   "metadata": {},
   "outputs": [],
   "source": [
    "# функция для вычисления g(x) по модулю mod\n",
    "def calculate_g(num, mod):\n",
    "    # eval вычисляет бинарную строку и преобразовывает в int\n",
    "    return (17 % mod * num + eval(mod_adic_i(eval(to_2_adic(-11, e)) * define_mult(-11), mod))) % mod"
   ]
  },
  {
   "cell_type": "markdown",
   "metadata": {},
   "source": [
    "# g(x) = 17x - 1/11"
   ]
  },
  {
   "cell_type": "code",
   "execution_count": 22,
   "metadata": {},
   "outputs": [
    {
     "name": "stdout",
     "output_type": "stream",
     "text": [
      "1 * x + 1\n",
      "Функция биективна\n"
     ]
    }
   ],
   "source": [
    "# список вершин для доказательства биективности g(x)\n",
    "biekt_adic = {} \n",
    "for k in array_biekt:\n",
    "    # каждой вершине составляем пустой список связей\n",
    "    biekt_adic[k] = set()\n",
    "print(f'{17 % n_biekt} * x + {eval(mod_adic_i(eval(to_2_adic(-11, e)) * define_mult(-11), n_biekt))}')\n",
    "# составляем список связей для проверки на биективность\n",
    "calculate_by_func(biekt_adic, calculate_g, n_biekt)\n",
    "# проверяем на биективность список связей для g(x)\n",
    "check_biekt(array_biekt, biekt_adic)"
   ]
  },
  {
   "cell_type": "code",
   "execution_count": 23,
   "metadata": {},
   "outputs": [
    {
     "name": "stdout",
     "output_type": "stream",
     "text": [
      "1 * x + 5\n",
      "Функция транзитивна\n"
     ]
    }
   ],
   "source": [
    "# список вершин для доказательства транзитивности g(x)\n",
    "trans_adic = {} \n",
    "for k in trans_array:\n",
    "    # каждой вершине составляем пустой список связей\n",
    "    trans_adic[k] = set()\n",
    "print(f'{17 % n_biekt} * x + {eval(mod_adic_i(eval(to_2_adic(-11, e)) * define_mult(-11), n_trans))}')\n",
    "# составляем список связей для проверки на транзитивность\n",
    "calculate_by_func(trans_adic, calculate_g, n_trans)\n",
    "# проверяем на транзитивность список связей для g(x)\n",
    "check_trans(trans_array, trans_adic)"
   ]
  }
 ],
 "metadata": {
  "kernelspec": {
   "display_name": "Python 3",
   "language": "python",
   "name": "python3"
  },
  "language_info": {
   "codemirror_mode": {
    "name": "ipython",
    "version": 3
   },
   "file_extension": ".py",
   "mimetype": "text/x-python",
   "name": "python",
   "nbconvert_exporter": "python",
   "pygments_lexer": "ipython3",
   "version": "3.11.5"
  },
  "orig_nbformat": 4
 },
 "nbformat": 4,
 "nbformat_minor": 2
}
