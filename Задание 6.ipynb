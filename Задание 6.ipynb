{
 "cells": [
  {
   "cell_type": "code",
   "execution_count": 175,
   "metadata": {},
   "outputs": [],
   "source": [
    "import math\n",
    "# номер по списку\n",
    "m = 10\n",
    "# n по m\n",
    "n = m % 47 + 47\n",
    "# x для построения орбиты\n",
    "x = 1"
   ]
  },
  {
   "cell_type": "code",
   "execution_count": 176,
   "metadata": {},
   "outputs": [],
   "source": [
    "# эволюция\n",
    "def f(x):\n",
    "    # a * x mod n\n",
    "    return (2 * x) % n"
   ]
  },
  {
   "cell_type": "code",
   "execution_count": 177,
   "metadata": {},
   "outputs": [],
   "source": [
    "# получение группы\n",
    "def group():\n",
    "    # берём все числа 1..n-1\n",
    "    # если НОД(число, n) = 1, то добавляем в группу\n",
    "    group = set([i for i in range(1, n) if math.gcd(i, n) == 1])\n",
    "    print(\"n =\", n)\n",
    "    print(\"Г(n) взаимно простых вычетов по модулю натурального n\")\n",
    "    print(group) \n",
    "    return group"
   ]
  },
  {
   "cell_type": "code",
   "execution_count": 178,
   "metadata": {},
   "outputs": [],
   "source": [
    "def orb(x):\n",
    "    # первый элемент = x\n",
    "    orb = {x}\n",
    "    # пока добавляются элементы\n",
    "    while True:\n",
    "        # вычисляем длину орбиты на проверку того, что количество элементов увеличилось\n",
    "        prev_len = len(orb)\n",
    "        # вычисляем следующий\n",
    "        next_element = f(list(orb).pop())\n",
    "        # добавляем в орбиту\n",
    "        orb.add(next_element)\n",
    "        # если число элементов не увеличилось, то выходим из цикла\n",
    "        if prev_len == len(orb):\n",
    "            break\n",
    "    # восстанавливаем порядок\n",
    "    orb = sorted(orb)\n",
    "    print(f\"Орбита для x = {x} : \", orb)\n",
    "    print(f\"Длина орбиты = {len(orb)}\")\n",
    "    return orb"
   ]
  },
  {
   "cell_type": "code",
   "execution_count": 179,
   "metadata": {},
   "outputs": [],
   "source": [
    "def get_lengths(orb):\n",
    "    # создаём словарь длин\n",
    "    lengths = dict.fromkeys(orb)\n",
    "    # преобразуем группу в список для индексации\n",
    "    g = list(group())\n",
    "    # по всем элементам орбиты\n",
    "    for i in range(len(orb)):\n",
    "        # если не последний элемент\n",
    "        if i != len(orb) - 1:\n",
    "            # индекс следующего элемента орбиты в группе\n",
    "            index_of_next = g.index(orb[i+1])\n",
    "            # индекс текущего элемента орбиты в группе\n",
    "            index_of_current = g.index(orb[i])\n",
    "            # вычисляем как разницу индексов\n",
    "            lengths[orb[i]] = index_of_next - index_of_current\n",
    "        # если последний элемент орбиты\n",
    "        else:\n",
    "            # берём индекс первого элемента орбиты\n",
    "            index_of_next = g.index(orb[-1])\n",
    "            # берём индекс текущего элемента группы\n",
    "            index_of_current = g.index(orb[i])\n",
    "            # расстояние для последнего элемента\n",
    "            # будем считать как разницу кол-ва эл-тов группы и текущего + 1\n",
    "            lengths[orb[i]] = len(g) - index_of_current + 1\n",
    "    print(\"Длины <<кусков>>\")\n",
    "    for i in lengths:\n",
    "        print(f\"x{list(lengths.keys()).index(i) + 1} = {lengths[i]}\")\n",
    "    print(\"Дискретная окружность длины:\", sum(lengths.values()))\n",
    "    return lengths"
   ]
  },
  {
   "cell_type": "code",
   "execution_count": 180,
   "metadata": {},
   "outputs": [],
   "source": [
    "def get_stochastic_parameters(lengths):\n",
    "    # R = сумма квадратов расстояний\n",
    "    R = sum([i ** 2 for i in lengths.values()])\n",
    "    # r = R / длина дискретной окружности в квадрате\n",
    "    r = R / (sum(lengths.values()) ** 2)\n",
    "    # s = r * период орбиты\n",
    "    s = r * len(lengths.keys())\n",
    "    print(\"R = \", R)\n",
    "    print(\"r = \", r)\n",
    "    print(\"s = \", s)\n",
    "    return R, r, s"
   ]
  },
  {
   "cell_type": "code",
   "execution_count": 181,
   "metadata": {},
   "outputs": [
    {
     "name": "stdout",
     "output_type": "stream",
     "text": [
      "Орбита для x = 1 :  [1, 2, 4, 8]\n",
      "Длина орбиты = 4\n",
      "n = 57\n",
      "Г(n) взаимно простых вычетов по модулю натурального n\n",
      "{1, 2, 4, 5, 7, 8, 10, 11, 13, 14, 16, 17, 20, 22, 23, 25, 26, 28, 29, 31, 32, 34, 35, 37, 40, 41, 43, 44, 46, 47, 49, 50, 52, 53, 55, 56}\n",
      "Длины <<кусков>>\n",
      "x1 = 1\n",
      "x2 = 1\n",
      "x3 = 3\n",
      "x4 = 32\n",
      "Дискретная окружность длины: 37\n",
      "R =  1035\n",
      "r =  0.7560262965668371\n",
      "s =  3.0241051862673483\n"
     ]
    },
    {
     "data": {
      "text/plain": [
       "(1035, 0.7560262965668371, 3.0241051862673483)"
      ]
     },
     "execution_count": 181,
     "metadata": {},
     "output_type": "execute_result"
    }
   ],
   "source": [
    "get_stochastic_parameters(get_lengths(orb(x)))"
   ]
  }
 ],
 "metadata": {
  "kernelspec": {
   "display_name": "Python 3",
   "language": "python",
   "name": "python3"
  },
  "language_info": {
   "codemirror_mode": {
    "name": "ipython",
    "version": 3
   },
   "file_extension": ".py",
   "mimetype": "text/x-python",
   "name": "python",
   "nbconvert_exporter": "python",
   "pygments_lexer": "ipython3",
   "version": "3.11.5"
  }
 },
 "nbformat": 4,
 "nbformat_minor": 2
}
