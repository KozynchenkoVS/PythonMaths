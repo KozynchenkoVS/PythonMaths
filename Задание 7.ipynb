{
 "cells": [
  {
   "cell_type": "code",
   "execution_count": 21,
   "metadata": {},
   "outputs": [],
   "source": [
    "m = 10\n",
    "n = 10 + (m % 10)\n",
    "start_of_binary_string='0b'"
   ]
  },
  {
   "cell_type": "code",
   "execution_count": 20,
   "metadata": {},
   "outputs": [],
   "source": [
    "def prepare_vector(): \n",
    "    return [bin(i).replace(start_of_binary_string, '').zfill(n) for i in range(0, 2**n)]"
   ]
  },
  {
   "cell_type": "code",
   "execution_count": 19,
   "metadata": {},
   "outputs": [],
   "source": [
    "def help_sum(a, b):\n",
    "    return str((int(a) + int(b)) % 2)"
   ]
  },
  {
   "cell_type": "code",
   "execution_count": 29,
   "metadata": {},
   "outputs": [],
   "source": [
    "def get_diff(binary_string):\n",
    "    len_binary = len(binary_string)\n",
    "    result=''\n",
    "    for i in range(0,len_binary-1):\n",
    "        result+=help_sum(binary_string[i],binary_string[i+1])\n",
    "    result+= help_sum(binary_string[-1], binary_string[0])\n",
    "    return result"
   ]
  },
  {
   "cell_type": "code",
   "execution_count": 30,
   "metadata": {},
   "outputs": [
    {
     "data": {
      "text/plain": [
       "'10001'"
      ]
     },
     "execution_count": 30,
     "metadata": {},
     "output_type": "execute_result"
    }
   ],
   "source": [
    "get_diff('01111')"
   ]
  },
  {
   "cell_type": "code",
   "execution_count": 40,
   "metadata": {},
   "outputs": [],
   "source": [
    "vector = prepare_vector()\n",
    "binary_dict = dict.fromkeys(vector, None)\n",
    "int_dict = dict.fromkeys([eval(start_of_binary_string + i) for i in vector], None)"
   ]
  },
  {
   "cell_type": "code",
   "execution_count": null,
   "metadata": {},
   "outputs": [],
   "source": []
  }
 ],
 "metadata": {
  "kernelspec": {
   "display_name": "Python 3",
   "language": "python",
   "name": "python3"
  },
  "language_info": {
   "codemirror_mode": {
    "name": "ipython",
    "version": 3
   },
   "file_extension": ".py",
   "mimetype": "text/x-python",
   "name": "python",
   "nbconvert_exporter": "python",
   "pygments_lexer": "ipython3",
   "version": "3.11.5"
  }
 },
 "nbformat": 4,
 "nbformat_minor": 2
}
