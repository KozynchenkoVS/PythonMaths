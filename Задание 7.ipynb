{
 "cells": [
  {
   "cell_type": "code",
   "execution_count": 389,
   "metadata": {},
   "outputs": [],
   "source": [
    "# номер по списку\n",
    "m = 10\n",
    "# формула для расчёта n по m\n",
    "n = 10 + (m % 10)\n",
    "# начало бинарной строки на Python\n",
    "start_of_binary_string='0b'"
   ]
  },
  {
   "cell_type": "code",
   "execution_count": 390,
   "metadata": {},
   "outputs": [],
   "source": [
    "# Функция подготовки векторов\n",
    "def prepare_vector(): \n",
    "    # убираем начало бинарной строки\n",
    "    # дозаполняем недостающие разряды нулями\n",
    "    # берём все числа до 2^n - 1\n",
    "    return [bin(i).replace(start_of_binary_string, '').zfill(n) for i in range(0, 2**n)]"
   ]
  },
  {
   "cell_type": "code",
   "execution_count": 391,
   "metadata": {},
   "outputs": [],
   "source": [
    "# вспомогательная функция сложения разрядов\n",
    "def help_sum(a, b):\n",
    "    # приводим к целым числам (0, 1)\n",
    "    # берём mod 2\n",
    "    # возвращаем в строковое представление число для получения бинарной строки\n",
    "    return str((int(a) + int(b)) % 2)"
   ]
  },
  {
   "cell_type": "code",
   "execution_count": 392,
   "metadata": {},
   "outputs": [],
   "source": [
    "# Операция взятия разности\n",
    "def get_diff(binary_string):\n",
    "    # длина бинарной строки для цикла\n",
    "    len_binary = len(binary_string)\n",
    "    # результирующая бинарная строка\n",
    "    result=''\n",
    "    # до n - 1\n",
    "    for i in range(0,len_binary-1):\n",
    "        # складываем разряды по правилу yi = xi + x(i+1)\n",
    "        result+=help_sum(binary_string[i],binary_string[i+1])\n",
    "    # складываем последний разряд с первым\n",
    "    result+= help_sum(binary_string[-1], binary_string[0])\n",
    "    # получаем результирующую строку\n",
    "    return result"
   ]
  },
  {
   "cell_type": "code",
   "execution_count": 393,
   "metadata": {},
   "outputs": [],
   "source": [
    "# вспомогательная функция перевода в целое число бинарной строки\n",
    "def translate_to_int(binary):\n",
    "    # добавляем начало бинарной строки\n",
    "    # вычисляем число функцией eval\n",
    "    return eval(start_of_binary_string + binary)"
   ]
  },
  {
   "cell_type": "code",
   "execution_count": 394,
   "metadata": {},
   "outputs": [],
   "source": [
    "\n",
    "# создаём вершины с пустыми связями\n",
    "binary_dict = dict.fromkeys(prepare_vector(), None)"
   ]
  },
  {
   "cell_type": "code",
   "execution_count": 395,
   "metadata": {},
   "outputs": [],
   "source": [
    "# функция построения бинарного графа\n",
    "def get_binary_graph(verticles: dict):\n",
    "    # для каждой вершины\n",
    "    for verticle in verticles.keys():\n",
    "        # вычисляем функцию операции для неё\n",
    "        verticles[verticle] = get_diff(verticle)\n",
    "    # возвращаем граф\n",
    "    return verticles"
   ]
  },
  {
   "cell_type": "code",
   "execution_count": 396,
   "metadata": {},
   "outputs": [],
   "source": [
    "# функция перевода бинарного графа в целочисленный\n",
    "def get_integer_graph(binary_graph):\n",
    "    # создаём граф\n",
    "    int_graph = {}\n",
    "    # для каждой вершины бинарного графа\n",
    "    for verticle in binary_graph.keys():\n",
    "        # переводим вершину в целое число\n",
    "        # для такой вершины бинарного графа тоже делаем перевод в число\n",
    "        int_graph[translate_to_int(verticle)] = translate_to_int(binary_graph[verticle])\n",
    "    # возвращаем целочисленный граф\n",
    "    return int_graph"
   ]
  },
  {
   "cell_type": "code",
   "execution_count": 397,
   "metadata": {},
   "outputs": [],
   "source": [
    "cycles = []"
   ]
  },
  {
   "cell_type": "code",
   "execution_count": 398,
   "metadata": {},
   "outputs": [],
   "source": [
    "def get_cycles(a, verticles, arr):\n",
    "    if a in arr:   \n",
    "        return arr\n",
    "    arr.append(a)\n",
    "    return get_cycles(verticles[a], verticles, arr)"
   ]
  },
  {
   "cell_type": "code",
   "execution_count": 399,
   "metadata": {},
   "outputs": [],
   "source": [
    "graph = get_integer_graph(get_binary_graph(binary_dict))\n",
    "checked = set()\n",
    "for verticle in graph.keys():\n",
    "    if verticle not in checked:\n",
    "        cycle = get_cycles(verticle, graph, [])\n",
    "        cycles.append(cycle)\n",
    "        checked.update(cycle)"
   ]
  },
  {
   "cell_type": "code",
   "execution_count": 400,
   "metadata": {},
   "outputs": [
    {
     "data": {
      "text/plain": [
       "1024"
      ]
     },
     "execution_count": 400,
     "metadata": {},
     "output_type": "execute_result"
    }
   ],
   "source": [
    "len(cycles)\n",
    "len(checked)"
   ]
  },
  {
   "cell_type": "markdown",
   "metadata": {},
   "source": [
    "# Подготовка сбора путей, собранных по длинам"
   ]
  },
  {
   "cell_type": "code",
   "execution_count": 401,
   "metadata": {},
   "outputs": [],
   "source": [
    "lens = set(map(len, cycles))"
   ]
  },
  {
   "cell_type": "code",
   "execution_count": 402,
   "metadata": {},
   "outputs": [],
   "source": [
    "# создаём словарь из длин путей\n",
    "cycles_by_len = dict.fromkeys(lens)"
   ]
  },
  {
   "cell_type": "code",
   "execution_count": 403,
   "metadata": {},
   "outputs": [],
   "source": [
    "# присваиваем каждой длине пустой список путей\n",
    "for key in cycles_by_len:\n",
    "    cycles_by_len[key] = list()"
   ]
  },
  {
   "cell_type": "code",
   "execution_count": 404,
   "metadata": {},
   "outputs": [],
   "source": [
    "# каждой длине добавляем соответствующий путь с длиной\n",
    "for cycle in cycles:\n",
    "    cycles_by_len[len(cycle)].append(cycle)"
   ]
  },
  {
   "cell_type": "markdown",
   "metadata": {},
   "source": [
    "# O1*T4"
   ]
  },
  {
   "cell_type": "code",
   "execution_count": 382,
   "metadata": {},
   "outputs": [
    {
     "data": {
      "text/plain": [
       "[[0]]"
      ]
     },
     "execution_count": 382,
     "metadata": {},
     "output_type": "execute_result"
    }
   ],
   "source": [
    "cycles_by_len[1]"
   ]
  },
  {
   "cell_type": "code",
   "execution_count": 383,
   "metadata": {},
   "outputs": [
    {
     "data": {
      "text/plain": [
       "[[341, 1023, 0], [682, 1023, 0]]"
      ]
     },
     "execution_count": 383,
     "metadata": {},
     "output_type": "execute_result"
    }
   ],
   "source": [
    "cycles_by_len[3]"
   ]
  },
  {
   "cell_type": "markdown",
   "metadata": {},
   "source": [
    "# Собираем структуру графа"
   ]
  },
  {
   "cell_type": "code",
   "execution_count": 384,
   "metadata": {},
   "outputs": [],
   "source": [
    "def get_structure_17():\n",
    "    diffs = set()\n",
    "    for i in cycles_by_len[17]:\n",
    "        for j in cycles_by_len[17]:\n",
    "            a = set(i)\n",
    "            b = set(j)\n",
    "            c = a.symmetric_difference(b)\n",
    "            diffs.update(c)\n",
    "    print(\"Вершины вне цикла O15\", diffs)\n",
    "    a = [set(i) for i in cycles_by_len[17]]\n",
    "    cycles = [set(i) for i in cycles_by_len[17]]\n",
    "    for cycle in cycles:\n",
    "        cycle.difference_update(diffs)\n",
    "    print(\"Цикл O15:\")\n",
    "    print(cycles[0])\n",
    "    tree = [set(i) for i in cycles_by_len[17]]\n",
    "    #убираем цикл из деревьев\n",
    "    for verticle in tree:\n",
    "         verticle.intersection_update(diffs)\n",
    "    # собираем вершины, принадлежащие деревьям\n",
    "    for g in tree:\n",
    "        for k in tree:\n",
    "            if len(g.intersection(k)) !=0:\n",
    "                g.update(k)\n",
    "    # удаляем дубликаты\n",
    "    clean_tree = []\n",
    "    for a in tree:\n",
    "        if a not in clean_tree:\n",
    "            clean_tree.append(a)\n",
    "    print(\"Список деревьев T4 для O15\")\n",
    "    print(clean_tree)\n",
    "    #прибавляем 1 вершину к дереву, так как она принадлежит к циклу\n",
    "    return f\"O{len(cycles[0])}*T{len(clean_tree[0])+ 1}\""
   ]
  },
  {
   "cell_type": "code",
   "execution_count": 385,
   "metadata": {},
   "outputs": [],
   "source": [
    "def get_structure_32():\n",
    "    intersections = []\n",
    "    # ищем циклы\n",
    "    for i in cycles_by_len[32]:\n",
    "        for j in cycles_by_len[32]:\n",
    "            if i != j:\n",
    "                intersection = set(i).intersection(set(j))\n",
    "                if intersection not in intersections and len(intersection) !=0:\n",
    "                    intersections.append(intersection)\n",
    "    intersections_cycles = []\n",
    "    for i in intersections:\n",
    "        for j in intersections:\n",
    "            if i != j:\n",
    "                temp = i.intersection(j)\n",
    "                if len(temp) != 0:\n",
    "                    temp_2 = i.update(j)\n",
    "                    intersections_cycles.append(temp_2)\n",
    "    print(len(intersections_cycles))"
   ]
  },
  {
   "cell_type": "code",
   "execution_count": 386,
   "metadata": {},
   "outputs": [],
   "source": [
    "def get_structure_32():\n",
    "    # получаем вершины дерева\n",
    "    diffs = []\n",
    "    for i in cycles_by_len[32]:\n",
    "        for j in cycles_by_len[32]:\n",
    "            if i!=j:\n",
    "                diff = set(i).difference(set(j))\n",
    "                if diff not in diffs and len(diff) != 0 and len(diff) <32:\n",
    "                    diffs.append(diff)\n",
    "    # объединяем их\n",
    "    for g in diffs:\n",
    "        for k in diffs:\n",
    "            if len(g.intersection(k)) !=0:\n",
    "                g.update(k)\n",
    "    # вершины дерева вне цикла без дубликатов\n",
    "    trees = []\n",
    "    for c in diffs:\n",
    "        if c not in trees:\n",
    "            trees.append(c)\n",
    "    print(\"Кол-во деревьев вне циклов\", len(trees))\n",
    "    cycles_duplicates = []\n",
    "    for i in cycles_by_len[32]:\n",
    "        for j in trees:\n",
    "            temp = set(i)-j\n",
    "            if len(temp)!=32:\n",
    "                cycles_duplicates.append(temp)\n",
    "    cycles_original = []\n",
    "    for i in cycles_duplicates:\n",
    "        if i not in cycles_original:\n",
    "            cycles_original.append(i)\n",
    "    print(\"Количество циклов\", len(cycles_original), f\", кол-во элементов в которых = {len(cycles_original[0])}\")\n",
    "    return f\"{len(cycles_original)}(O{len(cycles_original[0])}*T{len(trees[0])+ 1})\""
   ]
  },
  {
   "cell_type": "code",
   "execution_count": 387,
   "metadata": {},
   "outputs": [
    {
     "name": "stdout",
     "output_type": "stream",
     "text": [
      "Кол-во деревьев вне циклов 240\n",
      "Количество циклов 8 , кол-во элементов в которых = 30\n"
     ]
    },
    {
     "data": {
      "text/plain": [
       "'8(O30*T4)'"
      ]
     },
     "execution_count": 387,
     "metadata": {},
     "output_type": "execute_result"
    }
   ],
   "source": [
    "get_structure_32()"
   ]
  },
  {
   "cell_type": "code",
   "execution_count": 388,
   "metadata": {},
   "outputs": [
    {
     "name": "stdout",
     "output_type": "stream",
     "text": [
      "Структура графа\n",
      "O1\n",
      "[[0]]\n",
      "Деревья для O1\n",
      "[[341, 1023, 0], [682, 1023, 0]]\n",
      "Вершины вне цикла O15 {899, 132, 775, 264, 651, 527, 528, 403, 279, 155, 924, 31, 33, 930, 806, 429, 558, 434, 693, 310, 825, 186, 62, 961, 66, 837, 713, 589, 462, 465, 726, 217, 858, 93, 992, 868, 231, 744, 363, 620, 496, 627, 372, 248, 124}\n",
      "Цикл O15:\n",
      "{99, 165, 198, 297, 330, 396, 495, 561, 594, 660, 759, 792, 891, 957, 990}\n",
      "Список деревьев T4 для O15\n",
      "[{992, 33, 31}, {961, 66, 62}, {930, 93, 231}, {124, 899, 132}, {155, 868, 429}, {186, 837, 462}, {217, 363, 806}, {264, 248, 775}, {744, 825, 279}, {713, 858, 310}, {924, 651, 372}, {403, 620, 693}, {434, 589, 726}, {465, 627, 558}, {496, 528, 527}]\n",
      "Кол-во деревьев вне циклов 240\n",
      "Количество циклов 8 , кол-во элементов в которых = 30\n",
      "Итоговая структура графа\n",
      "O1*T4 + O15*T4 + 8(O30*T4)\n"
     ]
    }
   ],
   "source": [
    "print(\"Структура графа\")\n",
    "print(\"O1\")\n",
    "print(cycles_by_len[1])\n",
    "print(\"Деревья для O1\")\n",
    "print(cycles_by_len[3])\n",
    "s_1 = f\"O{len(cycles_by_len[1])}*T{len(cycles_by_len[3][0]) + 1}\"\n",
    "s_17 = get_structure_17()\n",
    "s_32 = get_structure_32()\n",
    "print(\"Итоговая структура графа\")\n",
    "print(f\"{s_1} + {s_17} + {s_32}\")"
   ]
  }
 ],
 "metadata": {
  "kernelspec": {
   "display_name": "Python 3",
   "language": "python",
   "name": "python3"
  },
  "language_info": {
   "codemirror_mode": {
    "name": "ipython",
    "version": 3
   },
   "file_extension": ".py",
   "mimetype": "text/x-python",
   "name": "python",
   "nbconvert_exporter": "python",
   "pygments_lexer": "ipython3",
   "version": "3.11.5"
  }
 },
 "nbformat": 4,
 "nbformat_minor": 2
}
