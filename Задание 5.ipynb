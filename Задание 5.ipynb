{
 "cells": [
  {
   "cell_type": "code",
   "execution_count": 70,
   "metadata": {},
   "outputs": [],
   "source": [
    "# начало бинарных строк на Python\n",
    "start_of_binary_string = '0b'"
   ]
  },
  {
   "cell_type": "code",
   "execution_count": 71,
   "metadata": {},
   "outputs": [],
   "source": [
    "# Отображение Монна\n",
    "def monna_transform(x):\n",
    "    # перевод в бинарную строку\n",
    "    # замена 0b старта бинарной строки в python на пустоту\n",
    "    # приведение строки к виду x0x1x2x\n",
    "    reversed_binary = bin(x).replace(start_of_binary_string, '')[::-1]\n",
    "    # сумма ряда xi * 1/2 ^(i + 1)\n",
    "    return sum([int(reversed_binary[i]) * (1/(2 ** (i + 1))) for i in range(len(reversed_binary))])"
   ]
  },
  {
   "cell_type": "code",
   "execution_count": 72,
   "metadata": {},
   "outputs": [],
   "source": [
    "# Последовательность ван дер Корпута с помощью отображения Монна\n",
    "def monna_array(count):\n",
    "    # для count членов 0..count - 1 вычисляем их отображение монна\n",
    "    return [monna_transform(i) for i in range(count)]"
   ]
  },
  {
   "cell_type": "code",
   "execution_count": 73,
   "metadata": {},
   "outputs": [],
   "source": [
    "def determine_interval(x):\n",
    "    k = 0.0\n",
    "    while(True):\n",
    "        if (x >= (1.0 - 1.0/(2.0 ** k)) and x < (1.0 - 1.0/(2.0 ** (k + 1.0)))):\n",
    "            return k\n",
    "        else: k+=1.0"
   ]
  },
  {
   "cell_type": "code",
   "execution_count": 74,
   "metadata": {},
   "outputs": [],
   "source": [
    "# Отображение Какутани-фон Неймана\n",
    "def T_x(x):\n",
    "    # Определяем k для x\n",
    "    k = determine_interval(x)\n",
    "    # x - 1 + 1/b^k + 1/b^(k+1)\n",
    "    return x - 1.0 + 1.0/(2.0 ** k) + 1.0/(2.0 ** (k + 1))"
   ]
  },
  {
   "cell_type": "code",
   "execution_count": 75,
   "metadata": {},
   "outputs": [],
   "source": [
    "# Последовательность ван дер Корпута с помощью отображения Какутани-фон Неймана\n",
    "def kakutani_array(count):\n",
    "    # первый элемент в последовательности = 0\n",
    "    array = [0]\n",
    "    for _ in range(count - 1):\n",
    "        # Вычисляем T от предыдущего элемента последовательности\n",
    "        array.append(T_x(array[-1]))\n",
    "    return array"
   ]
  },
  {
   "cell_type": "code",
   "execution_count": 76,
   "metadata": {},
   "outputs": [
    {
     "data": {
      "text/plain": [
       "[0.0,\n",
       " 0.5,\n",
       " 0.25,\n",
       " 0.75,\n",
       " 0.125,\n",
       " 0.625,\n",
       " 0.375,\n",
       " 0.875,\n",
       " 0.0625,\n",
       " 0.5625,\n",
       " 0.3125,\n",
       " 0.8125,\n",
       " 0.1875,\n",
       " 0.6875,\n",
       " 0.4375,\n",
       " 0.9375,\n",
       " 0.03125,\n",
       " 0.53125,\n",
       " 0.28125,\n",
       " 0.78125]"
      ]
     },
     "execution_count": 76,
     "metadata": {},
     "output_type": "execute_result"
    }
   ],
   "source": [
    "monna_array(20)"
   ]
  },
  {
   "cell_type": "code",
   "execution_count": 77,
   "metadata": {},
   "outputs": [
    {
     "data": {
      "text/plain": [
       "[0,\n",
       " 0.5,\n",
       " 0.25,\n",
       " 0.75,\n",
       " 0.125,\n",
       " 0.625,\n",
       " 0.375,\n",
       " 0.875,\n",
       " 0.0625,\n",
       " 0.5625,\n",
       " 0.3125,\n",
       " 0.8125,\n",
       " 0.1875,\n",
       " 0.6875,\n",
       " 0.4375,\n",
       " 0.9375,\n",
       " 0.03125,\n",
       " 0.53125,\n",
       " 0.28125,\n",
       " 0.78125]"
      ]
     },
     "execution_count": 77,
     "metadata": {},
     "output_type": "execute_result"
    }
   ],
   "source": [
    "kakutani_array(20)"
   ]
  }
 ],
 "metadata": {
  "kernelspec": {
   "display_name": "Python 3",
   "language": "python",
   "name": "python3"
  },
  "language_info": {
   "codemirror_mode": {
    "name": "ipython",
    "version": 3
   },
   "file_extension": ".py",
   "mimetype": "text/x-python",
   "name": "python",
   "nbconvert_exporter": "python",
   "pygments_lexer": "ipython3",
   "version": "3.11.5"
  }
 },
 "nbformat": 4,
 "nbformat_minor": 2
}
