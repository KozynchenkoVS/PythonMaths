{
 "cells": [
  {
   "cell_type": "code",
   "execution_count": 25,
   "metadata": {},
   "outputs": [],
   "source": [
    "# модуль для док-ва транзитивности\n",
    "n_trans = 8\n",
    "# вычету по 256\n",
    "trans_array = list(range(0, n_trans))"
   ]
  },
  {
   "cell_type": "code",
   "execution_count": 26,
   "metadata": {},
   "outputs": [],
   "source": [
    "# функция для вычисления функции f(x)\n",
    "# ^ = XOR\n",
    "# & = AND\n",
    "def calculate_f(a, n):\n",
    "    return (((a + 1) ^ 4) ^ (4 * (a & (1 + 2 * a) & (3 + 4 * a) & (7 + 8 * a) & (15 + 16 * a)&(31 + 32 * a) & (63 + 64 * a))) ^ (4 * (a ** 2 + 10))) % n"
   ]
  },
  {
   "cell_type": "code",
   "execution_count": 27,
   "metadata": {},
   "outputs": [],
   "source": [
    "# Универсальная функция для вычисления связей вершин из Задания 1\n",
    "def calculate_by_func(verticles: dict, func, n_mod):\n",
    "    for k in verticles.keys():\n",
    "        b = func(k, n_mod)\n",
    "        verticles[k] = set([b])\n",
    "        arr = [b]\n",
    "        while(True):\n",
    "            c = func(arr[-1], n_mod)\n",
    "            if (c in arr):\n",
    "                break\n",
    "            else: \n",
    "                arr.append(c)\n",
    "                verticles[k].add(c)"
   ]
  },
  {
   "cell_type": "code",
   "execution_count": 28,
   "metadata": {},
   "outputs": [],
   "source": [
    "# функция проверки на транзитивность\n",
    "def check_trans(a: list[int], d: dict):\n",
    "    flag = True\n",
    "    # Идём по всем вершинам\n",
    "    for key in d.keys():\n",
    "        # Если количество связей в вершине не равно количеству вершин, то нет единого цикла\n",
    "        if len(d[key]) != len(a):\n",
    "            flag = False\n",
    "            break\n",
    "    if not flag:\n",
    "        print(f'Циклов больше чем один \\n ${d} \\nФункция не транзитивна')\n",
    "    if flag:\n",
    "        print('Функция транзитивна')"
   ]
  },
  {
   "cell_type": "code",
   "execution_count": 29,
   "metadata": {},
   "outputs": [
    {
     "name": "stdout",
     "output_type": "stream",
     "text": [
      "f(a) = (a + 1)XOR 4) XOR (4 * (a AND (1 + 2 * a) AND (3 + 4 * a) AND (7 + 8 * a) AND (15 + 16 * a) AND (31 + 32 * a) AND (63 + 64 * a))) XOR (4 * (a ^ 2 + 10))\n",
      "Функция транзитивна\n"
     ]
    }
   ],
   "source": [
    "# список вершин для доказательства транзитивности f(x)\n",
    "transitivity = {} \n",
    "for k in trans_array:\n",
    "    # каждой вершине составляем пустой список связей\n",
    "    transitivity[k] = set()\n",
    "\n",
    "print(\"f(a) = (a + 1)XOR 4) XOR (4 * (a AND (1 + 2 * a) AND (3 + 4 * a) AND (7 + 8 * a) AND (15 + 16 * a) AND (31 + 32 * a) AND (63 + 64 * a))) XOR (4 * (a ^ 2 + 10))\")\n",
    "# составляем список связей для проверки на транзитивность\n",
    "calculate_by_func(transitivity, calculate_f, n_trans)\n",
    "# проверяем на транзитивность список связей для f(x)\n",
    "check_trans(trans_array, transitivity)"
   ]
  }
 ],
 "metadata": {
  "kernelspec": {
   "display_name": "Python 3",
   "language": "python",
   "name": "python3"
  },
  "language_info": {
   "codemirror_mode": {
    "name": "ipython",
    "version": 3
   },
   "file_extension": ".py",
   "mimetype": "text/x-python",
   "name": "python",
   "nbconvert_exporter": "python",
   "pygments_lexer": "ipython3",
   "version": "3.11.5"
  },
  "orig_nbformat": 4
 },
 "nbformat": 4,
 "nbformat_minor": 2
}
