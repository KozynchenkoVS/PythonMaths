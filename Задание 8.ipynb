{
 "cells": [
  {
   "cell_type": "code",
   "execution_count": 2478,
   "metadata": {},
   "outputs": [],
   "source": [
    "import random\n",
    "import matplotlib.pyplot as plt\n",
    "pool = ['0','1']\n",
    "start_of_binary_string = '0b'\n",
    "func = lambda x,y: int(((x & y) + y)/(x | y + 3)) ^ (x * y) * 3"
   ]
  },
  {
   "cell_type": "code",
   "execution_count": 2479,
   "metadata": {},
   "outputs": [],
   "source": [
    "def f(a, b):\n",
    "    return func(eval(start_of_binary_string + a),eval(start_of_binary_string + b))"
   ]
  },
  {
   "cell_type": "code",
   "execution_count": 2480,
   "metadata": {},
   "outputs": [],
   "source": [
    "# вспомогательная функция\n",
    "def help(a, b, m):\n",
    "    # приводим к целым числам\n",
    "    # применяем функцию\n",
    "    # возвращаем в строковое представление число для получения бинарной строки m последних справа разрядов\n",
    "    return (bin(f(a, b)).replace(start_of_binary_string, ''))[-m:]"
   ]
  },
  {
   "cell_type": "code",
   "execution_count": 2481,
   "metadata": {},
   "outputs": [],
   "source": [
    "def H(a, h, m):\n",
    "    return help(a, h, m)"
   ]
  },
  {
   "cell_type": "code",
   "execution_count": 2482,
   "metadata": {},
   "outputs": [],
   "source": [
    "def fill_zeros(w, m):\n",
    "    if len(w) % m !=0:\n",
    "        return w.zfill(len(w) + (m - (len(w) % m)))\n",
    "    else:\n",
    "        return w"
   ]
  },
  {
   "cell_type": "code",
   "execution_count": 2483,
   "metadata": {},
   "outputs": [],
   "source": [
    "def hash(h0, w, m):\n",
    "    h = [h0]\n",
    "    w = fill_zeros(w, m)[::-1]\n",
    "    iters = int(len(w) / m)\n",
    "    for i in range(iters):\n",
    "        h.append(H(w[i * m:(i*m + m)][::-1], h[-1], m))\n",
    "    return h[-1]\n",
    "    "
   ]
  },
  {
   "cell_type": "code",
   "execution_count": 2484,
   "metadata": {},
   "outputs": [],
   "source": [
    "def random_binary_string(m):\n",
    "    return ''.join(random.choices(pool, k=m))"
   ]
  },
  {
   "cell_type": "code",
   "execution_count": 2485,
   "metadata": {},
   "outputs": [],
   "source": [
    "def to_I(array, m):\n",
    "    return [(eval('0b' + i) % (2 ** m)) / (2 ** m) for i in array]"
   ]
  },
  {
   "cell_type": "code",
   "execution_count": 2486,
   "metadata": {},
   "outputs": [],
   "source": [
    "def automata_projection(h0, m):\n",
    "    x = [random_binary_string(5 * m)]\n",
    "    y = [hash(h0, x[-1], m)]\n",
    "    for _ in range(2 ** m - 1):\n",
    "        calc = hash(h0, y[-1], m)\n",
    "        y.append(calc)\n",
    "        x.append(y[-1])\n",
    "    x = to_I(x, m)\n",
    "    y = to_I(y, m)\n",
    "    print(x[0])\n",
    "    return plt.scatter(x, y)"
   ]
  },
  {
   "cell_type": "code",
   "execution_count": 2487,
   "metadata": {},
   "outputs": [
    {
     "data": {
      "text/plain": [
       "'1111'"
      ]
     },
     "execution_count": 2487,
     "metadata": {},
     "output_type": "execute_result"
    }
   ],
   "source": [
    "\n",
    "len_w = 19\n",
    "w = '1011111101111011101'\n",
    "m = 4\n",
    "h0 = '0101'\n",
    "hash(h0, w, 4)\n"
   ]
  },
  {
   "cell_type": "code",
   "execution_count": 2488,
   "metadata": {},
   "outputs": [
    {
     "name": "stdout",
     "output_type": "stream",
     "text": [
      "0.625\n"
     ]
    },
    {
     "data": {
      "text/plain": [
       "<matplotlib.collections.PathCollection at 0x1e0979dabd0>"
      ]
     },
     "execution_count": 2488,
     "metadata": {},
     "output_type": "execute_result"
    },
    {
     "data": {
      "image/png": "[encoded data removed]",
      "text/plain": [
       "<Figure size 640x480 with 1 Axes>"
      ]
     },
     "metadata": {},
     "output_type": "display_data"
    }
   ],
   "source": [
    "automata_projection('1001', 4)"
   ]
  }
 ],
 "metadata": {
  "kernelspec": {
   "display_name": "Python 3",
   "language": "python",
   "name": "python3"
  },
  "language_info": {
   "codemirror_mode": {
    "name": "ipython",
    "version": 3
   },
   "file_extension": ".py",
   "mimetype": "text/x-python",
   "name": "python",
   "nbconvert_exporter": "python",
   "pygments_lexer": "ipython3",
   "version": "3.11.5"
  }
 },
 "nbformat": 4,
 "nbformat_minor": 2
}
